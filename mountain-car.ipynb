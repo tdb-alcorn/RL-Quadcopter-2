{
 "cells": [
  {
   "cell_type": "code",
   "execution_count": 1,
   "metadata": {},
   "outputs": [],
   "source": [
    "%load_ext autoreload\n",
    "import numpy as np\n",
    "import tensorflow as tf\n",
    "import sys\n",
    "import matplotlib\n",
    "%matplotlib inline\n",
    "import matplotlib.pyplot as plt\n",
    "import gym"
   ]
  },
  {
   "cell_type": "code",
   "execution_count": 4,
   "metadata": {},
   "outputs": [
    {
     "name": "stdout",
     "output_type": "stream",
     "text": [
      "\u001b[33mWARN: gym.spaces.Box autodetected dtype as <class 'numpy.float32'>. Please provide explicit dtype.\u001b[0m\n",
      "\u001b[33mWARN: gym.spaces.Box autodetected dtype as <class 'numpy.float32'>. Please provide explicit dtype.\u001b[0m\n"
     ]
    }
   ],
   "source": [
    "env = gym.make(\"MountainCarContinuous-v0\")"
   ]
  },
  {
   "cell_type": "code",
   "execution_count": 11,
   "metadata": {},
   "outputs": [
    {
     "data": {
      "text/plain": [
       "(2,)"
      ]
     },
     "execution_count": 11,
     "metadata": {},
     "output_type": "execute_result"
    }
   ],
   "source": [
    "env.observation_space.shape"
   ]
  },
  {
   "cell_type": "code",
   "execution_count": 3,
   "metadata": {},
   "outputs": [
    {
     "name": "stdout",
     "output_type": "stream",
     "text": [
      "\u001b[33mWARN: gym.spaces.Box autodetected dtype as <class 'numpy.float32'>. Please provide explicit dtype.\u001b[0m\n",
      "\u001b[33mWARN: gym.spaces.Box autodetected dtype as <class 'numpy.float32'>. Please provide explicit dtype.\u001b[0m\n",
      "Episode =  500, Total Reward = 34.71704"
     ]
    }
   ],
   "source": [
    "%autoreload 2\n",
    "from agents.agent import NeuralAgent\n",
    "\n",
    "env = gym.make(\"MountainCarContinuous-v0\")\n",
    "\n",
    "num_episodes = 500\n",
    "learning_rate = 1e-3\n",
    "num_hidden = 32\n",
    "memory_size = 10000\n",
    "batch_size = 32\n",
    "explore_mu = 0\n",
    "explore_theta = 0.15\n",
    "explore_sigma = 1.0\n",
    "\n",
    "tf.reset_default_graph()\n",
    "agent = NeuralAgent(state_size=env.observation_space.shape[0],\n",
    "                    action_size=env.action_space.shape[0],\n",
    "                    action_low=env.action_space.low[0],\n",
    "                    action_high=env.action_space.high[0],\n",
    "                    learning_rate=learning_rate,\n",
    "                    num_hidden=num_hidden,\n",
    "                    memory_size=memory_size,\n",
    "                    batch_size=batch_size,\n",
    "                    exploration_mu=explore_mu,\n",
    "                    exploration_theta=explore_theta,\n",
    "                    exploration_sigma=explore_sigma\n",
    "                   )\n",
    "saver = tf.train.Saver()\n",
    "\n",
    "with tf.Session() as sess:\n",
    "    sess.run(tf.global_variables_initializer())\n",
    "    for i_episode in range(1, num_episodes+1):\n",
    "        state = env.reset()\n",
    "        total_reward = 0\n",
    "        while True:\n",
    "            action = agent.act(sess, state)\n",
    "            next_state, reward, done, _ = env.step(action)\n",
    "            agent.step(sess, state, action, reward, next_state, done)\n",
    "            total_reward += reward\n",
    "            state = next_state\n",
    "            if done:\n",
    "                print(\"\\rEpisode = {:4d}, Total Reward = {:.3f}\".format(\n",
    "                    i_episode, total_reward), end=\"\")  # [debug]\n",
    "                break\n",
    "        sys.stdout.flush()\n",
    "    saver.save(sess, \"checkpoints/mountain-car.ckpt\")"
   ]
  },
  {
   "cell_type": "code",
   "execution_count": 5,
   "metadata": {},
   "outputs": [
    {
     "name": "stdout",
     "output_type": "stream",
     "text": [
      "\u001b[33mWARN: gym.spaces.Box autodetected dtype as <class 'numpy.float32'>. Please provide explicit dtype.\u001b[0m\n",
      "\u001b[33mWARN: gym.spaces.Box autodetected dtype as <class 'numpy.float32'>. Please provide explicit dtype.\u001b[0m\n",
      "INFO:tensorflow:Restoring parameters from checkpoints/mountain-car.ckpt\n",
      "2.696767539071786\n"
     ]
    }
   ],
   "source": [
    "play(\"MountainCarContinuous-v0\", agent)"
   ]
  },
  {
   "cell_type": "code",
   "execution_count": null,
   "metadata": {},
   "outputs": [],
   "source": [
    "def play(env_name, agent):\n",
    "    env = gym.make(env_name)\n",
    "    try:\n",
    "        with tf.Session() as sess:\n",
    "            saver.restore(sess, \"checkpoints/mountain-car.ckpt\")\n",
    "            state = env.reset()\n",
    "            env.render()\n",
    "            done = False\n",
    "            total_reward = 0\n",
    "            while not done:\n",
    "                action = agent.act(sess, state)\n",
    "                next_state, reward, done, _ = env.step(action)\n",
    "                total_reward += reward\n",
    "                state = next_state\n",
    "                env.render()\n",
    "            print(total_reward)\n",
    "    finally:\n",
    "        env.close()"
   ]
  },
  {
   "cell_type": "markdown",
   "metadata": {},
   "source": [
    "It solves mountain car!!"
   ]
  },
  {
   "cell_type": "code",
   "execution_count": null,
   "metadata": {},
   "outputs": [],
   "source": []
  }
 ],
 "metadata": {
  "kernelspec": {
   "display_name": "Python 3",
   "language": "python",
   "name": "python3"
  },
  "language_info": {
   "codemirror_mode": {
    "name": "ipython",
    "version": 3
   },
   "file_extension": ".py",
   "mimetype": "text/x-python",
   "name": "python",
   "nbconvert_exporter": "python",
   "pygments_lexer": "ipython3",
   "version": "3.6.3"
  }
 },
 "nbformat": 4,
 "nbformat_minor": 2
}
